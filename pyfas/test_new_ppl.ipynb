{
 "cells": [
  {
   "cell_type": "code",
   "execution_count": 1,
   "id": "c26e7e06",
   "metadata": {},
   "outputs": [],
   "source": [
    "from ppl import Ppl\n",
    "from espdb import ESPDBFile"
   ]
  },
  {
   "cell_type": "code",
   "execution_count": 2,
   "id": "ca855fa8",
   "metadata": {},
   "outputs": [
    {
     "name": "stdout",
     "output_type": "stream",
     "text": [
      "create_df_dict is working\n"
     ]
    }
   ],
   "source": [
    "ppl_test = Ppl(r'C:\\Users\\user\\Desktop\\pyfas\\pyfas\\pyfas\\test.ppl')"
   ]
  },
  {
   "cell_type": "code",
   "execution_count": 9,
   "id": "83fb496f",
   "metadata": {},
   "outputs": [
    {
     "name": "stdout",
     "output_type": "stream",
     "text": [
      "Timesteps: [0.0, 8640.281, 17280.24, 25920.21]\n",
      "===\n",
      "Number of timesteps: 4\n",
      "===\n",
      "Branches:['6A02_TO_NSK', 'NSK_4.3KM', '6A03_TO_NSK', '6A04_TO_NSK', 'NSK_4.6KM', 'NSK_TO_CPS_11KM', 'NSK_1_5.5KM']\n",
      "====\n",
      "Props:\n",
      "{'6A02_TO_NSK': {12: 'ID', 13: 'QG', 14: 'QGST', 15: 'QLST', 16: 'QLT', 17: 'QOST', 18: 'QWST', 19: 'HOL', 20: 'PT', 21: 'Q2', 22: 'TM'},\n",
      " '6A03_TO_NSK': {30: 'ID', 31: 'QG', 32: 'QGST', 33: 'QLST', 34: 'QLT', 35: 'QOST', 36: 'QWST', 37: 'HOL', 38: 'PT', 39: 'Q2', 40: 'TM'},\n",
      " '6A04_TO_NSK': {41: 'ID', 42: 'QG', 43: 'QGST', 44: 'QLST', 45: 'QLT', 46: 'QOST', 47: 'QWST', 48: 'HOL', 49: 'PT', 50: 'Q2', 51: 'TM'},\n",
      " 'NSK_1_5.5KM': {1: 'ID', 2: 'QG', 3: 'QGST', 4: 'QLST', 5: 'QLT', 6: 'QOST', 7: 'QWST', 8: 'HOL', 9: 'PT', 10: 'Q2', 11: 'TM'},\n",
      " 'NSK_4.3KM': {52: 'ID', 53: 'QG', 54: 'QGST', 55: 'QLST', 56: 'QLT', 57: 'QOST', 58: 'QWST', 59: 'HOL', 60: 'PT', 61: 'Q2', 62: 'TM'},\n",
      " 'NSK_4.6KM': {23: 'ID', 24: 'QG', 25: 'QLT', 26: 'HOL', 27: 'PT', 28: 'Q2', 29: 'TM'},\n",
      " 'NSK_TO_CPS_11KM': {63: 'ID', 64: 'QG', 65: 'QGST', 66: 'QLST', 67: 'QLT', 68: 'QOST', 69: 'QWST', 70: 'HOL', 71: 'PT', 72: 'Q2', 73: 'TM'}}\n"
     ]
    }
   ],
   "source": [
    "ppl_test.info"
   ]
  },
  {
   "cell_type": "code",
   "execution_count": 10,
   "id": "c47a3eac",
   "metadata": {},
   "outputs": [
    {
     "name": "stdout",
     "output_type": "stream",
     "text": [
      "['6A02_TO_NSK', 'NSK_4.3KM', '6A03_TO_NSK', '6A04_TO_NSK', 'NSK_4.6KM', 'NSK_TO_CPS_11KM', 'NSK_1_5.5KM']\n"
     ]
    }
   ],
   "source": [
    "ppl_test.branches"
   ]
  },
  {
   "cell_type": "code",
   "execution_count": 11,
   "id": "843927fc",
   "metadata": {},
   "outputs": [
    {
     "data": {
      "text/html": [
       "<div>\n",
       "<style scoped>\n",
       "    .dataframe tbody tr th:only-of-type {\n",
       "        vertical-align: middle;\n",
       "    }\n",
       "\n",
       "    .dataframe tbody tr th {\n",
       "        vertical-align: top;\n",
       "    }\n",
       "\n",
       "    .dataframe thead th {\n",
       "        text-align: right;\n",
       "    }\n",
       "</style>\n",
       "<table border=\"1\" class=\"dataframe\">\n",
       "  <thead>\n",
       "    <tr style=\"text-align: right;\">\n",
       "      <th></th>\n",
       "      <th>0.000</th>\n",
       "      <th>8640.281</th>\n",
       "      <th>17280.240</th>\n",
       "      <th>25920.210</th>\n",
       "    </tr>\n",
       "  </thead>\n",
       "  <tbody>\n",
       "    <tr>\n",
       "      <th>27.343737</th>\n",
       "      <td>22.66062</td>\n",
       "      <td>22.62107</td>\n",
       "      <td>22.62250</td>\n",
       "      <td>22.62244</td>\n",
       "    </tr>\n",
       "    <tr>\n",
       "      <th>82.031212</th>\n",
       "      <td>22.53995</td>\n",
       "      <td>22.50124</td>\n",
       "      <td>22.50249</td>\n",
       "      <td>22.50257</td>\n",
       "    </tr>\n",
       "    <tr>\n",
       "      <th>136.718687</th>\n",
       "      <td>22.41936</td>\n",
       "      <td>22.38086</td>\n",
       "      <td>22.38178</td>\n",
       "      <td>22.38215</td>\n",
       "    </tr>\n",
       "    <tr>\n",
       "      <th>191.406162</th>\n",
       "      <td>22.29936</td>\n",
       "      <td>22.26108</td>\n",
       "      <td>22.26156</td>\n",
       "      <td>22.26232</td>\n",
       "    </tr>\n",
       "    <tr>\n",
       "      <th>246.093650</th>\n",
       "      <td>22.17190</td>\n",
       "      <td>22.13353</td>\n",
       "      <td>22.13365</td>\n",
       "      <td>22.13453</td>\n",
       "    </tr>\n",
       "    <tr>\n",
       "      <th>...</th>\n",
       "      <td>...</td>\n",
       "      <td>...</td>\n",
       "      <td>...</td>\n",
       "      <td>...</td>\n",
       "    </tr>\n",
       "    <tr>\n",
       "      <th>4350.538125</th>\n",
       "      <td>14.11149</td>\n",
       "      <td>14.08533</td>\n",
       "      <td>14.08863</td>\n",
       "      <td>14.08751</td>\n",
       "    </tr>\n",
       "    <tr>\n",
       "      <th>4405.376750</th>\n",
       "      <td>14.02327</td>\n",
       "      <td>13.99705</td>\n",
       "      <td>14.00047</td>\n",
       "      <td>13.99928</td>\n",
       "    </tr>\n",
       "    <tr>\n",
       "      <th>4460.124250</th>\n",
       "      <td>13.91163</td>\n",
       "      <td>13.88533</td>\n",
       "      <td>13.88881</td>\n",
       "      <td>13.88756</td>\n",
       "    </tr>\n",
       "    <tr>\n",
       "      <th>4514.871750</th>\n",
       "      <td>13.79964</td>\n",
       "      <td>13.77308</td>\n",
       "      <td>13.77655</td>\n",
       "      <td>13.77531</td>\n",
       "    </tr>\n",
       "    <tr>\n",
       "      <th>4569.619250</th>\n",
       "      <td>13.68795</td>\n",
       "      <td>13.66121</td>\n",
       "      <td>13.66463</td>\n",
       "      <td>13.66343</td>\n",
       "    </tr>\n",
       "  </tbody>\n",
       "</table>\n",
       "<p>92 rows × 4 columns</p>\n",
       "</div>"
      ],
      "text/plain": [
       "             0.000      8640.281   17280.240  25920.210\n",
       "27.343737     22.66062   22.62107   22.62250   22.62244\n",
       "82.031212     22.53995   22.50124   22.50249   22.50257\n",
       "136.718687    22.41936   22.38086   22.38178   22.38215\n",
       "191.406162    22.29936   22.26108   22.26156   22.26232\n",
       "246.093650    22.17190   22.13353   22.13365   22.13453\n",
       "...                ...        ...        ...        ...\n",
       "4350.538125   14.11149   14.08533   14.08863   14.08751\n",
       "4405.376750   14.02327   13.99705   14.00047   13.99928\n",
       "4460.124250   13.91163   13.88533   13.88881   13.88756\n",
       "4514.871750   13.79964   13.77308   13.77655   13.77531\n",
       "4569.619250   13.68795   13.66121   13.66463   13.66343\n",
       "\n",
       "[92 rows x 4 columns]"
      ]
     },
     "execution_count": 11,
     "metadata": {},
     "output_type": "execute_result"
    }
   ],
   "source": [
    "ppl_test.create_df('NSK_4.6KM', 'TM')"
   ]
  },
  {
   "cell_type": "code",
   "execution_count": 12,
   "id": "31d44289",
   "metadata": {},
   "outputs": [
    {
     "name": "stdout",
     "output_type": "stream",
     "text": [
      "create_df_dict is working\n"
     ]
    }
   ],
   "source": [
    "ppl_test.create_df_dict()"
   ]
  },
  {
   "cell_type": "code",
   "execution_count": 8,
   "id": "5e8d0d52",
   "metadata": {},
   "outputs": [
    {
     "data": {
      "text/html": [
       "<div>\n",
       "<style scoped>\n",
       "    .dataframe tbody tr th:only-of-type {\n",
       "        vertical-align: middle;\n",
       "    }\n",
       "\n",
       "    .dataframe tbody tr th {\n",
       "        vertical-align: top;\n",
       "    }\n",
       "\n",
       "    .dataframe thead th {\n",
       "        text-align: right;\n",
       "    }\n",
       "</style>\n",
       "<table border=\"1\" class=\"dataframe\">\n",
       "  <thead>\n",
       "    <tr style=\"text-align: right;\">\n",
       "      <th></th>\n",
       "      <th>0.000</th>\n",
       "      <th>8640.281</th>\n",
       "      <th>17280.240</th>\n",
       "      <th>25920.210</th>\n",
       "    </tr>\n",
       "  </thead>\n",
       "  <tbody>\n",
       "    <tr>\n",
       "      <th>12.509995</th>\n",
       "      <td>3321097.0</td>\n",
       "      <td>3272597.0</td>\n",
       "      <td>3270212.0</td>\n",
       "      <td>3270140.0</td>\n",
       "    </tr>\n",
       "    <tr>\n",
       "      <th>37.529985</th>\n",
       "      <td>3321381.0</td>\n",
       "      <td>3272876.0</td>\n",
       "      <td>3270492.0</td>\n",
       "      <td>3270419.0</td>\n",
       "    </tr>\n",
       "    <tr>\n",
       "      <th>62.549985</th>\n",
       "      <td>3321668.0</td>\n",
       "      <td>3273155.0</td>\n",
       "      <td>3270771.0</td>\n",
       "      <td>3270698.0</td>\n",
       "    </tr>\n",
       "    <tr>\n",
       "      <th>87.569995</th>\n",
       "      <td>3322296.0</td>\n",
       "      <td>3273433.0</td>\n",
       "      <td>3271051.0</td>\n",
       "      <td>3270977.0</td>\n",
       "    </tr>\n",
       "    <tr>\n",
       "      <th>112.738975</th>\n",
       "      <td>3307350.0</td>\n",
       "      <td>3258357.0</td>\n",
       "      <td>3256173.0</td>\n",
       "      <td>3258438.0</td>\n",
       "    </tr>\n",
       "    <tr>\n",
       "      <th>138.056925</th>\n",
       "      <td>3276487.0</td>\n",
       "      <td>3247772.0</td>\n",
       "      <td>3245834.0</td>\n",
       "      <td>3256164.0</td>\n",
       "    </tr>\n",
       "    <tr>\n",
       "      <th>154.380000</th>\n",
       "      <td>3261264.0</td>\n",
       "      <td>3247428.0</td>\n",
       "      <td>3245489.0</td>\n",
       "      <td>3255819.0</td>\n",
       "    </tr>\n",
       "    <tr>\n",
       "      <th>161.708200</th>\n",
       "      <td>3261682.0</td>\n",
       "      <td>3263663.0</td>\n",
       "      <td>3265932.0</td>\n",
       "      <td>3265939.0</td>\n",
       "    </tr>\n",
       "  </tbody>\n",
       "</table>\n",
       "</div>"
      ],
      "text/plain": [
       "            0.000      8640.281   17280.240  25920.210\n",
       "12.509995   3321097.0  3272597.0  3270212.0  3270140.0\n",
       "37.529985   3321381.0  3272876.0  3270492.0  3270419.0\n",
       "62.549985   3321668.0  3273155.0  3270771.0  3270698.0\n",
       "87.569995   3322296.0  3273433.0  3271051.0  3270977.0\n",
       "112.738975  3307350.0  3258357.0  3256173.0  3258438.0\n",
       "138.056925  3276487.0  3247772.0  3245834.0  3256164.0\n",
       "154.380000  3261264.0  3247428.0  3245489.0  3255819.0\n",
       "161.708200  3261682.0  3263663.0  3265932.0  3265939.0"
      ]
     },
     "execution_count": 8,
     "metadata": {},
     "output_type": "execute_result"
    }
   ],
   "source": [
    "ppl_test.data_in_df.BRANCH_6A02_TO_NSK.PT"
   ]
  },
  {
   "cell_type": "code",
   "execution_count": null,
   "id": "9d9034a5",
   "metadata": {},
   "outputs": [],
   "source": []
  },
  {
   "cell_type": "code",
   "execution_count": null,
   "id": "4b68908f",
   "metadata": {},
   "outputs": [],
   "source": []
  },
  {
   "cell_type": "markdown",
   "id": "d6742789",
   "metadata": {},
   "source": [
    "### Тест ESPDBFile"
   ]
  },
  {
   "cell_type": "code",
   "execution_count": null,
   "id": "307adf90",
   "metadata": {},
   "outputs": [],
   "source": [
    "from espdb import ESPDBFile"
   ]
  },
  {
   "cell_type": "code",
   "execution_count": null,
   "id": "6429640e",
   "metadata": {},
   "outputs": [],
   "source": [
    "\n",
    "ESPDBFile.create_espdb(path='espdb_w200.txt',\n",
    "                 esp_vers=1,\n",
    "                 esp_label='LEMAZ',\n",
    "                 esp_model='ESP5A-160',\n",
    "                 freq=48.5,\n",
    "                 min_rate=140,\n",
    "                 max_rate=250,\n",
    "             flow_rate=[0.488, 44.61, 85.89, 145.2, 168.8, 202.7, 226.3, 245.5, 290.8, 357.1],\n",
    "             head_per_stage=[5.794, 5.833, 5.493, 5.225, 5.137, 4.806, 4.443, 4.092, 2.554, 0.446],\n",
    "             power=[88.96, 110.4,128.9,151.8,159.5,170.7, 176.3, 176.7, 171.3,164.1])"
   ]
  },
  {
   "cell_type": "code",
   "execution_count": null,
   "id": "e7c904d6",
   "metadata": {},
   "outputs": [],
   "source": []
  }
 ],
 "metadata": {
  "kernelspec": {
   "display_name": "base",
   "language": "python",
   "name": "python3"
  },
  "language_info": {
   "codemirror_mode": {
    "name": "ipython",
    "version": 3
   },
   "file_extension": ".py",
   "mimetype": "text/x-python",
   "name": "python",
   "nbconvert_exporter": "python",
   "pygments_lexer": "ipython3",
   "version": "3.12.7"
  }
 },
 "nbformat": 4,
 "nbformat_minor": 5
}
